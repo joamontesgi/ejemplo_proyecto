{
  "nbformat": 4,
  "nbformat_minor": 0,
  "metadata": {
    "colab": {
      "provenance": []
    },
    "kernelspec": {
      "name": "python3",
      "display_name": "Python 3"
    },
    "language_info": {
      "name": "python"
    }
  },
  "cells": [
    {
      "cell_type": "code",
      "source": [
        "from sklearn.feature_extraction.text import CountVectorizer"
      ],
      "metadata": {
        "id": "EHRO4REuonJz"
      },
      "execution_count": null,
      "outputs": []
    },
    {
      "cell_type": "code",
      "execution_count": null,
      "metadata": {
        "id": "yX6WMqq9j_MX"
      },
      "outputs": [],
      "source": [
        "frases = [\n",
        "    \"El perro ladra y canta y además grita\",\n",
        "    \"El gato maulla\",\n",
        "    \"El pájaro canta\",\n",
        "    \"El pez nada\"\n",
        "]"
      ]
    },
    {
      "cell_type": "code",
      "source": [
        "vectorizador = CountVectorizer()"
      ],
      "metadata": {
        "id": "dxSTtp5RoihV"
      },
      "execution_count": null,
      "outputs": []
    },
    {
      "cell_type": "code",
      "source": [
        "X = vectorizador.fit_transform(frases)"
      ],
      "metadata": {
        "id": "cw6jcbTfo34Y"
      },
      "execution_count": null,
      "outputs": []
    },
    {
      "cell_type": "code",
      "source": [
        "print(vectorizador.get_feature_names_out())"
      ],
      "metadata": {
        "colab": {
          "base_uri": "https://localhost:8080/"
        },
        "id": "_vIUw5PLpHz6",
        "outputId": "89426b15-4f0a-45ad-9a6a-4e097ee3d30e"
      },
      "execution_count": null,
      "outputs": [
        {
          "output_type": "stream",
          "name": "stdout",
          "text": [
            "['además' 'canta' 'el' 'gato' 'grita' 'ladra' 'maulla' 'nada' 'perro'\n",
            " 'pez' 'pájaro']\n"
          ]
        }
      ]
    },
    {
      "cell_type": "code",
      "source": [
        "print(X.toarray())"
      ],
      "metadata": {
        "colab": {
          "base_uri": "https://localhost:8080/"
        },
        "id": "SF3NUDtyp7Kq",
        "outputId": "1e875ab5-0674-474a-a14b-81a2de61d437"
      },
      "execution_count": null,
      "outputs": [
        {
          "output_type": "stream",
          "name": "stdout",
          "text": [
            "[[1 1 1 0 1 1 0 0 1 0 0]\n",
            " [0 0 1 1 0 0 1 0 0 0 0]\n",
            " [0 1 1 0 0 0 0 0 0 0 1]\n",
            " [0 0 1 0 0 0 0 1 0 1 0]]\n"
          ]
        }
      ]
    },
    {
      "cell_type": "code",
      "source": [
        "import pandas as pd\n",
        "from sklearn.feature_extraction.text import CountVectorizer\n",
        "from sklearn.model_selection import train_test_split\n",
        "from sklearn.metrics import confusion_matrix, accuracy_score\n",
        "from sklearn.neighbors import KNeighborsClassifier\n",
        "import seaborn as sns\n",
        "import matplotlib.pyplot as plt"
      ],
      "metadata": {
        "id": "NR0GO903rhne"
      },
      "execution_count": null,
      "outputs": []
    },
    {
      "cell_type": "code",
      "source": [
        "data = pd.read_csv('df_total.csv')\n",
        "data"
      ],
      "metadata": {
        "colab": {
          "base_uri": "https://localhost:8080/",
          "height": 18496
        },
        "collapsed": true,
        "id": "YVdT0v8XsV5Y",
        "outputId": "c2b4df16-efbc-4ee0-f0fd-34e68bfe0fcd"
      },
      "execution_count": null,
      "outputs": [
        {
          "output_type": "execute_result",
          "data": {
            "text/plain": [
              "                                                    url  \\\n",
              "0      https://www.larepublica.co/redirect/post/3201905   \n",
              "1      https://www.larepublica.co/redirect/post/3210288   \n",
              "2      https://www.larepublica.co/redirect/post/3240676   \n",
              "3      https://www.larepublica.co/redirect/post/3342889   \n",
              "4      https://www.larepublica.co/redirect/post/3427208   \n",
              "...                                                 ...   \n",
              "1212  https://www.bbva.com/es/como-lograr-que-los-in...   \n",
              "1213  https://www.bbva.com/es/podcast-como-nos-afect...   \n",
              "1214   https://www.larepublica.co/redirect/post/3253735   \n",
              "1215  https://www.bbva.com/es/bbva-y-barcelona-healt...   \n",
              "1216   https://www.larepublica.co/redirect/post/3263980   \n",
              "\n",
              "                                                   news           Type  \n",
              "0     Durante el foro La banca articulador empresari...           Otra  \n",
              "1     El regulador de valores de China dijo el domin...   Regulaciones  \n",
              "2     En una industria históricamente masculina como...       Alianzas  \n",
              "3     Con el dato de marzo el IPC interanual encaden...  Macroeconomia  \n",
              "4     Ayer en Cartagena se dio inicio a la versión n...           Otra  \n",
              "...                                                 ...            ...  \n",
              "1212  En la vida de toda empresa emergente llega un ...     Innovacion  \n",
              "1213  La espiral alcista de los precios continúa y g...  Macroeconomia  \n",
              "1214  Las grandes derrotas nacionales son experienci...       Alianzas  \n",
              "1215  BBVA ha alcanzado un acuerdo de colaboración c...     Innovacion  \n",
              "1216  Casi entrando a la parte final de noviembre la...       Alianzas  \n",
              "\n",
              "[1217 rows x 3 columns]"
            ],
            "text/html": [
              "\n",
              "  <div id=\"df-389112e0-8410-42ae-ad59-5de83db00a19\" class=\"colab-df-container\">\n",
              "    <div>\n",
              "<style scoped>\n",
              "    .dataframe tbody tr th:only-of-type {\n",
              "        vertical-align: middle;\n",
              "    }\n",
              "\n",
              "    .dataframe tbody tr th {\n",
              "        vertical-align: top;\n",
              "    }\n",
              "\n",
              "    .dataframe thead th {\n",
              "        text-align: right;\n",
              "    }\n",
              "</style>\n",
              "<table border=\"1\" class=\"dataframe\">\n",
              "  <thead>\n",
              "    <tr style=\"text-align: right;\">\n",
              "      <th></th>\n",
              "      <th>url</th>\n",
              "      <th>news</th>\n",
              "      <th>Type</th>\n",
              "    </tr>\n",
              "  </thead>\n",
              "  <tbody>\n",
              "    <tr>\n",
              "      <th>0</th>\n",
              "      <td>https://www.larepublica.co/redirect/post/3201905</td>\n",
              "      <td>Durante el foro La banca articulador empresari...</td>\n",
              "      <td>Otra</td>\n",
              "    </tr>\n",
              "    <tr>\n",
              "      <th>1</th>\n",
              "      <td>https://www.larepublica.co/redirect/post/3210288</td>\n",
              "      <td>El regulador de valores de China dijo el domin...</td>\n",
              "      <td>Regulaciones</td>\n",
              "    </tr>\n",
              "    <tr>\n",
              "      <th>2</th>\n",
              "      <td>https://www.larepublica.co/redirect/post/3240676</td>\n",
              "      <td>En una industria históricamente masculina como...</td>\n",
              "      <td>Alianzas</td>\n",
              "    </tr>\n",
              "    <tr>\n",
              "      <th>3</th>\n",
              "      <td>https://www.larepublica.co/redirect/post/3342889</td>\n",
              "      <td>Con el dato de marzo el IPC interanual encaden...</td>\n",
              "      <td>Macroeconomia</td>\n",
              "    </tr>\n",
              "    <tr>\n",
              "      <th>4</th>\n",
              "      <td>https://www.larepublica.co/redirect/post/3427208</td>\n",
              "      <td>Ayer en Cartagena se dio inicio a la versión n...</td>\n",
              "      <td>Otra</td>\n",
              "    </tr>\n",
              "    <tr>\n",
              "      <th>...</th>\n",
              "      <td>...</td>\n",
              "      <td>...</td>\n",
              "      <td>...</td>\n",
              "    </tr>\n",
              "    <tr>\n",
              "      <th>1212</th>\n",
              "      <td>https://www.bbva.com/es/como-lograr-que-los-in...</td>\n",
              "      <td>En la vida de toda empresa emergente llega un ...</td>\n",
              "      <td>Innovacion</td>\n",
              "    </tr>\n",
              "    <tr>\n",
              "      <th>1213</th>\n",
              "      <td>https://www.bbva.com/es/podcast-como-nos-afect...</td>\n",
              "      <td>La espiral alcista de los precios continúa y g...</td>\n",
              "      <td>Macroeconomia</td>\n",
              "    </tr>\n",
              "    <tr>\n",
              "      <th>1214</th>\n",
              "      <td>https://www.larepublica.co/redirect/post/3253735</td>\n",
              "      <td>Las grandes derrotas nacionales son experienci...</td>\n",
              "      <td>Alianzas</td>\n",
              "    </tr>\n",
              "    <tr>\n",
              "      <th>1215</th>\n",
              "      <td>https://www.bbva.com/es/bbva-y-barcelona-healt...</td>\n",
              "      <td>BBVA ha alcanzado un acuerdo de colaboración c...</td>\n",
              "      <td>Innovacion</td>\n",
              "    </tr>\n",
              "    <tr>\n",
              "      <th>1216</th>\n",
              "      <td>https://www.larepublica.co/redirect/post/3263980</td>\n",
              "      <td>Casi entrando a la parte final de noviembre la...</td>\n",
              "      <td>Alianzas</td>\n",
              "    </tr>\n",
              "  </tbody>\n",
              "</table>\n",
              "<p>1217 rows × 3 columns</p>\n",
              "</div>\n",
              "    <div class=\"colab-df-buttons\">\n",
              "\n",
              "  <div class=\"colab-df-container\">\n",
              "    <button class=\"colab-df-convert\" onclick=\"convertToInteractive('df-389112e0-8410-42ae-ad59-5de83db00a19')\"\n",
              "            title=\"Convert this dataframe to an interactive table.\"\n",
              "            style=\"display:none;\">\n",
              "\n",
              "  <svg xmlns=\"http://www.w3.org/2000/svg\" height=\"24px\" viewBox=\"0 -960 960 960\">\n",
              "    <path d=\"M120-120v-720h720v720H120Zm60-500h600v-160H180v160Zm220 220h160v-160H400v160Zm0 220h160v-160H400v160ZM180-400h160v-160H180v160Zm440 0h160v-160H620v160ZM180-180h160v-160H180v160Zm440 0h160v-160H620v160Z\"/>\n",
              "  </svg>\n",
              "    </button>\n",
              "\n",
              "  <style>\n",
              "    .colab-df-container {\n",
              "      display:flex;\n",
              "      gap: 12px;\n",
              "    }\n",
              "\n",
              "    .colab-df-convert {\n",
              "      background-color: #E8F0FE;\n",
              "      border: none;\n",
              "      border-radius: 50%;\n",
              "      cursor: pointer;\n",
              "      display: none;\n",
              "      fill: #1967D2;\n",
              "      height: 32px;\n",
              "      padding: 0 0 0 0;\n",
              "      width: 32px;\n",
              "    }\n",
              "\n",
              "    .colab-df-convert:hover {\n",
              "      background-color: #E2EBFA;\n",
              "      box-shadow: 0px 1px 2px rgba(60, 64, 67, 0.3), 0px 1px 3px 1px rgba(60, 64, 67, 0.15);\n",
              "      fill: #174EA6;\n",
              "    }\n",
              "\n",
              "    .colab-df-buttons div {\n",
              "      margin-bottom: 4px;\n",
              "    }\n",
              "\n",
              "    [theme=dark] .colab-df-convert {\n",
              "      background-color: #3B4455;\n",
              "      fill: #D2E3FC;\n",
              "    }\n",
              "\n",
              "    [theme=dark] .colab-df-convert:hover {\n",
              "      background-color: #434B5C;\n",
              "      box-shadow: 0px 1px 3px 1px rgba(0, 0, 0, 0.15);\n",
              "      filter: drop-shadow(0px 1px 2px rgba(0, 0, 0, 0.3));\n",
              "      fill: #FFFFFF;\n",
              "    }\n",
              "  </style>\n",
              "\n",
              "    <script>\n",
              "      const buttonEl =\n",
              "        document.querySelector('#df-389112e0-8410-42ae-ad59-5de83db00a19 button.colab-df-convert');\n",
              "      buttonEl.style.display =\n",
              "        google.colab.kernel.accessAllowed ? 'block' : 'none';\n",
              "\n",
              "      async function convertToInteractive(key) {\n",
              "        const element = document.querySelector('#df-389112e0-8410-42ae-ad59-5de83db00a19');\n",
              "        const dataTable =\n",
              "          await google.colab.kernel.invokeFunction('convertToInteractive',\n",
              "                                                    [key], {});\n",
              "        if (!dataTable) return;\n",
              "\n",
              "        const docLinkHtml = 'Like what you see? Visit the ' +\n",
              "          '<a target=\"_blank\" href=https://colab.research.google.com/notebooks/data_table.ipynb>data table notebook</a>'\n",
              "          + ' to learn more about interactive tables.';\n",
              "        element.innerHTML = '';\n",
              "        dataTable['output_type'] = 'display_data';\n",
              "        await google.colab.output.renderOutput(dataTable, element);\n",
              "        const docLink = document.createElement('div');\n",
              "        docLink.innerHTML = docLinkHtml;\n",
              "        element.appendChild(docLink);\n",
              "      }\n",
              "    </script>\n",
              "  </div>\n",
              "\n",
              "\n",
              "<div id=\"df-6dfcf24e-f860-4504-9dd0-b001f17a9a43\">\n",
              "  <button class=\"colab-df-quickchart\" onclick=\"quickchart('df-6dfcf24e-f860-4504-9dd0-b001f17a9a43')\"\n",
              "            title=\"Suggest charts\"\n",
              "            style=\"display:none;\">\n",
              "\n",
              "<svg xmlns=\"http://www.w3.org/2000/svg\" height=\"24px\"viewBox=\"0 0 24 24\"\n",
              "     width=\"24px\">\n",
              "    <g>\n",
              "        <path d=\"M19 3H5c-1.1 0-2 .9-2 2v14c0 1.1.9 2 2 2h14c1.1 0 2-.9 2-2V5c0-1.1-.9-2-2-2zM9 17H7v-7h2v7zm4 0h-2V7h2v10zm4 0h-2v-4h2v4z\"/>\n",
              "    </g>\n",
              "</svg>\n",
              "  </button>\n",
              "\n",
              "<style>\n",
              "  .colab-df-quickchart {\n",
              "      --bg-color: #E8F0FE;\n",
              "      --fill-color: #1967D2;\n",
              "      --hover-bg-color: #E2EBFA;\n",
              "      --hover-fill-color: #174EA6;\n",
              "      --disabled-fill-color: #AAA;\n",
              "      --disabled-bg-color: #DDD;\n",
              "  }\n",
              "\n",
              "  [theme=dark] .colab-df-quickchart {\n",
              "      --bg-color: #3B4455;\n",
              "      --fill-color: #D2E3FC;\n",
              "      --hover-bg-color: #434B5C;\n",
              "      --hover-fill-color: #FFFFFF;\n",
              "      --disabled-bg-color: #3B4455;\n",
              "      --disabled-fill-color: #666;\n",
              "  }\n",
              "\n",
              "  .colab-df-quickchart {\n",
              "    background-color: var(--bg-color);\n",
              "    border: none;\n",
              "    border-radius: 50%;\n",
              "    cursor: pointer;\n",
              "    display: none;\n",
              "    fill: var(--fill-color);\n",
              "    height: 32px;\n",
              "    padding: 0;\n",
              "    width: 32px;\n",
              "  }\n",
              "\n",
              "  .colab-df-quickchart:hover {\n",
              "    background-color: var(--hover-bg-color);\n",
              "    box-shadow: 0 1px 2px rgba(60, 64, 67, 0.3), 0 1px 3px 1px rgba(60, 64, 67, 0.15);\n",
              "    fill: var(--button-hover-fill-color);\n",
              "  }\n",
              "\n",
              "  .colab-df-quickchart-complete:disabled,\n",
              "  .colab-df-quickchart-complete:disabled:hover {\n",
              "    background-color: var(--disabled-bg-color);\n",
              "    fill: var(--disabled-fill-color);\n",
              "    box-shadow: none;\n",
              "  }\n",
              "\n",
              "  .colab-df-spinner {\n",
              "    border: 2px solid var(--fill-color);\n",
              "    border-color: transparent;\n",
              "    border-bottom-color: var(--fill-color);\n",
              "    animation:\n",
              "      spin 1s steps(1) infinite;\n",
              "  }\n",
              "\n",
              "  @keyframes spin {\n",
              "    0% {\n",
              "      border-color: transparent;\n",
              "      border-bottom-color: var(--fill-color);\n",
              "      border-left-color: var(--fill-color);\n",
              "    }\n",
              "    20% {\n",
              "      border-color: transparent;\n",
              "      border-left-color: var(--fill-color);\n",
              "      border-top-color: var(--fill-color);\n",
              "    }\n",
              "    30% {\n",
              "      border-color: transparent;\n",
              "      border-left-color: var(--fill-color);\n",
              "      border-top-color: var(--fill-color);\n",
              "      border-right-color: var(--fill-color);\n",
              "    }\n",
              "    40% {\n",
              "      border-color: transparent;\n",
              "      border-right-color: var(--fill-color);\n",
              "      border-top-color: var(--fill-color);\n",
              "    }\n",
              "    60% {\n",
              "      border-color: transparent;\n",
              "      border-right-color: var(--fill-color);\n",
              "    }\n",
              "    80% {\n",
              "      border-color: transparent;\n",
              "      border-right-color: var(--fill-color);\n",
              "      border-bottom-color: var(--fill-color);\n",
              "    }\n",
              "    90% {\n",
              "      border-color: transparent;\n",
              "      border-bottom-color: var(--fill-color);\n",
              "    }\n",
              "  }\n",
              "</style>\n",
              "\n",
              "  <script>\n",
              "    async function quickchart(key) {\n",
              "      const quickchartButtonEl =\n",
              "        document.querySelector('#' + key + ' button');\n",
              "      quickchartButtonEl.disabled = true;  // To prevent multiple clicks.\n",
              "      quickchartButtonEl.classList.add('colab-df-spinner');\n",
              "      try {\n",
              "        const charts = await google.colab.kernel.invokeFunction(\n",
              "            'suggestCharts', [key], {});\n",
              "      } catch (error) {\n",
              "        console.error('Error during call to suggestCharts:', error);\n",
              "      }\n",
              "      quickchartButtonEl.classList.remove('colab-df-spinner');\n",
              "      quickchartButtonEl.classList.add('colab-df-quickchart-complete');\n",
              "    }\n",
              "    (() => {\n",
              "      let quickchartButtonEl =\n",
              "        document.querySelector('#df-6dfcf24e-f860-4504-9dd0-b001f17a9a43 button');\n",
              "      quickchartButtonEl.style.display =\n",
              "        google.colab.kernel.accessAllowed ? 'block' : 'none';\n",
              "    })();\n",
              "  </script>\n",
              "</div>\n",
              "\n",
              "  <div id=\"id_01821c07-d9f5-412e-8e10-416dbc919c1d\">\n",
              "    <style>\n",
              "      .colab-df-generate {\n",
              "        background-color: #E8F0FE;\n",
              "        border: none;\n",
              "        border-radius: 50%;\n",
              "        cursor: pointer;\n",
              "        display: none;\n",
              "        fill: #1967D2;\n",
              "        height: 32px;\n",
              "        padding: 0 0 0 0;\n",
              "        width: 32px;\n",
              "      }\n",
              "\n",
              "      .colab-df-generate:hover {\n",
              "        background-color: #E2EBFA;\n",
              "        box-shadow: 0px 1px 2px rgba(60, 64, 67, 0.3), 0px 1px 3px 1px rgba(60, 64, 67, 0.15);\n",
              "        fill: #174EA6;\n",
              "      }\n",
              "\n",
              "      [theme=dark] .colab-df-generate {\n",
              "        background-color: #3B4455;\n",
              "        fill: #D2E3FC;\n",
              "      }\n",
              "\n",
              "      [theme=dark] .colab-df-generate:hover {\n",
              "        background-color: #434B5C;\n",
              "        box-shadow: 0px 1px 3px 1px rgba(0, 0, 0, 0.15);\n",
              "        filter: drop-shadow(0px 1px 2px rgba(0, 0, 0, 0.3));\n",
              "        fill: #FFFFFF;\n",
              "      }\n",
              "    </style>\n",
              "    <button class=\"colab-df-generate\" onclick=\"generateWithVariable('data')\"\n",
              "            title=\"Generate code using this dataframe.\"\n",
              "            style=\"display:none;\">\n",
              "\n",
              "  <svg xmlns=\"http://www.w3.org/2000/svg\" height=\"24px\"viewBox=\"0 0 24 24\"\n",
              "       width=\"24px\">\n",
              "    <path d=\"M7,19H8.4L18.45,9,17,7.55,7,17.6ZM5,21V16.75L18.45,3.32a2,2,0,0,1,2.83,0l1.4,1.43a1.91,1.91,0,0,1,.58,1.4,1.91,1.91,0,0,1-.58,1.4L9.25,21ZM18.45,9,17,7.55Zm-12,3A5.31,5.31,0,0,0,4.9,8.1,5.31,5.31,0,0,0,1,6.5,5.31,5.31,0,0,0,4.9,4.9,5.31,5.31,0,0,0,6.5,1,5.31,5.31,0,0,0,8.1,4.9,5.31,5.31,0,0,0,12,6.5,5.46,5.46,0,0,0,6.5,12Z\"/>\n",
              "  </svg>\n",
              "    </button>\n",
              "    <script>\n",
              "      (() => {\n",
              "      const buttonEl =\n",
              "        document.querySelector('#id_01821c07-d9f5-412e-8e10-416dbc919c1d button.colab-df-generate');\n",
              "      buttonEl.style.display =\n",
              "        google.colab.kernel.accessAllowed ? 'block' : 'none';\n",
              "\n",
              "      buttonEl.onclick = () => {\n",
              "        google.colab.notebook.generateWithVariable('data');\n",
              "      }\n",
              "      })();\n",
              "    </script>\n",
              "  </div>\n",
              "\n",
              "    </div>\n",
              "  </div>\n"
            ],
            "application/vnd.google.colaboratory.intrinsic+json": {
              "type": "dataframe",
              "variable_name": "data",
              "summary": "{\n  \"name\": \"data\",\n  \"rows\": 1217,\n  \"fields\": [\n    {\n      \"column\": \"url\",\n      \"properties\": {\n        \"dtype\": \"string\",\n        \"num_unique_values\": 1101,\n        \"samples\": [\n          \"https://www.bbva.com/es/sostenibilidad/por-la-tierra-por-el-mundo-por-todos-un-dia-y-una-sola-tierra/\",\n          \"https://www.larepublica.co/redirect/post/3307565\",\n          \"https://www.bbva.com/es/ar/bbva-ofrece-una-amplia-variedad-de-productos-y-servicios-agropecuarios-en-expoagro/\"\n        ],\n        \"semantic_type\": \"\",\n        \"description\": \"\"\n      }\n    },\n    {\n      \"column\": \"news\",\n      \"properties\": {\n        \"dtype\": \"string\",\n        \"num_unique_values\": 1138,\n        \"samples\": [\n          \"Se anunci\\u00f3 una alianza estrat\\u00e9gica entre la fintech de soluciones financieras Omni Latam y JP Morgan para crear una plataforma que brinde soluciones financieras digitales para grandes empresas y pyme garantiz\\u00e1ndoles liquidez y acceso a capital de trabajo.La iniciativa busca proteger la cadena de suministro de los compradores frente a cualquier necesidad crediticia y desajuste de financiaci\\u00f3n. Se asegurar\\u00e1 que los proveedores tengan acceso a un programa de pagos anticipados de facturas.Con esta alianza combinamos las s\\u00f3lidas capacidades financieras de J.P. Morgan en Am\\u00e9rica Latina y la innovaci\\u00f3n tecnol\\u00f3gica de Omni Latam al servicio de las empresas proporcionando alternativas hechas a la medida de nuestros clientes que se adaptan tanto a compradores como a proveedores. El objetivo es facilitar el acceso al capital de trabajo adicional que necesitan para escalar sus negocios mejorando la estabilidad de la cadena de suministro as\\u00ed como su relaci\\u00f3n y reputaci\\u00f3n en el mercado dijo Diego Caicedo CEO  Cofundador de Omni Latam.Se espera que el acuerdo acelere la participaci\\u00f3n de JP Morgan en la regi\\u00f3n. La compa\\u00f1\\u00eda ya procesa cerca de 40 millones de transacciones diarias siendo el principal liquidador de d\\u00f3lares del mundo.Buscamos solventar las necesidades de los empresarios latinoamericanos por medio de soluciones de financiaci\\u00f3n de la cadena de suministro. Creemos que somos los mejor posicionados para atender esas necesidades de la mano de Omni Latam dijo Ignacio Munoz De Cote director de pagos para Latinoam\\u00e9rica en JP Morgan.\",\n          \"\\u00bfSon los filtros del agua realmente necesarios donde el acceso al agua potable est\\u00e1 garantizado? \\u00bfTienen beneficios para la salud y el medioambiente? Mientras en lugares sin agua potable, los filtros pueden significar una aut\\u00e9ntica revoluci\\u00f3n; en los hogares con agua de grifo potable, hay que tener en cuenta para qu\\u00e9 vas a utilizar las distintas tecnolog\\u00edas de filtrado. Importante: los filtros ayudan a solucionar el desaf\\u00edo del agua embotellada en pl\\u00e1stico, lo que contribuye con la sostenibilidad.\\r\\nTres \\u00e1tomos forman una mol\\u00e9cula sencilla. Dos hidr\\u00f3genos y un ox\\u00edgeno est\\u00e1n en la base de la revoluci\\u00f3n de la vida en nuestro planeta. Sin el agua no existir\\u00eda nada de lo que conocemos. Y, sin embargo, cuando abrimos el grifo y la dejamos correr no pensamos en esto. Lo damos por sentado, a pesar de que se trata de un bien m\\u00e1s escaso y con m\\u00e1s amenazas de lo que podr\\u00edamos pensar.\\r\\nEn el mundo, hoy, la mayor\\u00eda de las personas tienen acceso a agua potable. Sin embargo, seg\\u00fan la Organizaci\\u00f3n Mundial de la Salud, m\\u00e1s de 2000 millones de habitantes consumen a diario agua que tiene el potencial de estar contaminada. La diferencia, en la mayor\\u00eda de los casos, la marca la presencia de sistemas de filtrado, depuraci\\u00f3n y potabilizaci\\u00f3n industriales, as\\u00ed como controles que aseguran que beberla no implica riesgos para la salud.\\r\\nAdem\\u00e1s, siempre existe la posibilidad de instalar purificadores de agua a nivel dom\\u00e9stico. Pero \\u00bfson realmente necesarios en aquellos lugares donde el acceso al agua potable est\\u00e1 garantizado? \\u00bfQu\\u00e9 tipos existen y c\\u00f3mo funcionan? \\u00bfTienen realmente beneficios para la salud y el medioambiente?\\r\\nAgua limpia y saneamiento\\r\\nDurante tres d\\u00edas, diversos distritos de Lima y el Callao tendr\\u00e1n el servicio de agua restringido. Debido a este escenario, los peruanos tienen la oportunidad de reflexionar sobre los cuidados que se le debe dar al agua. A continuaci\\u00f3n, algunos consejos sobre qu\\u00e9 se debe hacer para ahorrarla y qu\\u00e9 trucos hay seguir cuando no se cuenta con muchas reservas.\\r\\n\\u201cLa variedad de part\\u00edculas que pueden ser encontradas dentro del agua de grifo es muy grande. Dependiendo de cada regi\\u00f3n e incluso dentro de la misma provincia puede cambiar notablemente, ya que los acu\\u00edferos y los procesos de tratamiento y transporte son distintos\\u201d, explica Alex Dakov, responsable de la ONG Oceanic Global y CEO de Agua NEA y Green Motive. Lo que s\\u00ed est\\u00e1 claro es que lo que habitualmente llamamos agua es mucho m\\u00e1s que hidr\\u00f3geno y ox\\u00edgeno.\\r\\nEn estado natural, el agua contiene microorganismos y multitud de part\\u00edculas en suspensi\\u00f3n y elementos qu\\u00edmicos disueltos que recoge de su entorno. A ellos se han sumado los micropl\\u00e1sticos, aunque su impacto en la salud todav\\u00eda no se ha logrado determinar. En los pa\\u00edses en los que el acceso al agua potable est\\u00e1 garantizado, se llevan a cabo una serie de procesos de filtrado y desinfecci\\u00f3n para garantizar que la mayor\\u00eda de estos elementos no acabe siendo ingerida. Aun as\\u00ed, existen otras razones por las que se puede querer instalar un filtro en casa.\\r\\n\\u201cCuando hablamos de agua, muchas veces influye un criterio por encima de otros: la percepci\\u00f3n del sabor. Un criterio totalmente subjetivo que cada persona siente o aplica de manera diferente\\u201d, a\\u00f1ade Dakov. \\u201cLas tecnolog\\u00edas de filtrado ayudan a modificar esa percepci\\u00f3n, y por tanto pueden ayudar a beber agua del grifo, pese a no ser necesario desde un punto de vista qu\\u00edmico\\u201d.\\r\\nLa cosa cambia si hablamos de lugares en los que el agua corriente no es potable o ni siquiera existe tal red de agua corriente. Aqu\\u00ed, un filtro puede marcar un antes y un despu\\u00e9s, aunque garantizar la potabilidad, desde un punto de vista qu\\u00edmico y biol\\u00f3gico, es m\\u00e1s complejo que instalar un sistema de filtrado. \\u201cPara muchas comunidades donde el acceso al agua potable es complicado, un filtro puede ser una aut\\u00e9ntica revoluci\\u00f3n. Puede facilitar el acceso a una fuente de vida b\\u00e1sica para el ser humano de una manera econ\\u00f3mica y universal\\u201d, subraya el responsable de Oceanic Global.\\r\\nGesti\\u00f3n del Agua\\r\\nEl agua es un elemento imprescindible para el d\\u00eda a d\\u00eda a cuyo consumo no se le presta la debida atenci\\u00f3n \\u2013salvo en los cada vez m\\u00e1s frecuentes momentos de sequ\\u00eda\\u2013 debido a que su acceso y precio son a\\u00fan muy asequibles para el servicio que presta. El aumento de la concienciaci\\u00f3n ecol\\u00f3gica que se vive de unos a\\u00f1os a esta parte no es, sin embargo, todav\\u00eda suficiente para que los h\\u00e1bitos de los ciudadanos se hayan adecuado a las crecientes necesidades de ahorro de agua que demandan los tiempos que corren. De ah\\u00ed que sea muy oportuno revisar una serie de consejos para controlar la utilizaci\\u00f3n del l\\u00edquido elemento.\\r\\nLos filtros de agua para el hogar han ganado en variedad y eficiencia en los \\u00faltimos a\\u00f1os. Van desde sistemas sencillos para eliminar olores o sabores hasta unidades de desinfecci\\u00f3n o de desmineralizaci\\u00f3n. Estas son las principales tecnolog\\u00edas de filtrado disponibles para uso dom\\u00e9stico en la actualidad, seg\\u00fan el Centro para el Control y la Prevenci\\u00f3n de Enfermedades (CDC) de Estados Unidos.\\r\\nPara elegir filtro, debemos tener en cuenta el tipo de agua de nuestra zona y el prop\\u00f3sito que vamos a darle al agua filtrada. \\u201cCada filtro tiene un uso y unas caracter\\u00edsticas; y no tenerlo en cuenta puede dar lugar a una modificaci\\u00f3n negativa para el agua que se bebe. Por ejemplo, no cambiar un filtro de carbono cuando corresponde, puede acabar contaminando el agua que se est\\u00e1 bebiendo\\u201d, explica Alex Dakov.\\r\\nCada a\\u00f1o generamos m\\u00e1s de 300 millones de toneladas de residuos pl\\u00e1sticos en todo el mundo. La mayor\\u00eda no se recicla (m\\u00e1s de un 80 %) y unos ocho millones de toneladas acaban en los oc\\u00e9anos, seg\\u00fan datos de la agencia medioambiental de la ONU. Cada a\\u00f1o, se producen cerca de 500.000 millones de botellas pl\\u00e1sticas para agua y otras bebidas, la mayor\\u00eda de las cuales acaban en nuestro entorno como basura. En entidades financieras como BBVA, el pl\\u00e1stico es una especie en extinci\\u00f3n.\\r\\nAgua limpia y saneamiento\\r\\nA Rosa Ancco todav\\u00eda le sorprende o\\u00edr en su casa el sonido del agua corriendo. La costumbre no le deja olvidar que hasta hace poco ba\\u00f1aba a sus hijos con botellas de agua caliente. No ha tenido una vida f\\u00e1cil, pero su deseo de darle a su familia un techo digno bajo el que vivir y el apoyo de la Fundaci\\u00f3n Microfinanzas BBVA han sido suficientes para conseguirlo.\\r\\nEl problema de los pl\\u00e1sticos es complejo y atiende a muchas causas, pero la falta de acceso a agua potable es una de ellas. Seg\\u00fan el \\u00faltimo informe de Ocean Panel, mejorar la gesti\\u00f3n del agua y el saneamiento en el mundo es una de las principales l\\u00edneas de acci\\u00f3n para reducir la contaminaci\\u00f3n pl\\u00e1stica (y mejorar la salud global).\\r\\n\\u201cUna de las mayores ventajas que tiene el agua del grifo es que reduce el impacto medioambiental que genera el agua embotellada\\u201d, subraya el CEO de Agua NEA.\\u00a0\\u201cNo solo por la incesante producci\\u00f3n de pl\\u00e1sticos que supone la fabricaci\\u00f3n de las botellas o garrafas, se estima que en el mundo se abren m\\u00e1s de un mill\\u00f3n de botellas de pl\\u00e1stico cada minuto, sino tambi\\u00e9n por los costes medioambientales de su transporte\\u201d.\\r\\nEn este sentido, los filtros de agua y, sobre todo, los aplicados para mejorar la red de agua potable de localidades que dependen en gran medida del agua embotellada, pueden ser una soluci\\u00f3n.\\u00a0 \\u201cUno de los retos a los que la humanidad se enfrentar\\u00e1 en este siglo ser\\u00e1 garantizar el acceso a agua potable para los 8.000 millones de personas que pronto poblaremos el planeta, sin que eso multiplique el problema que tenemos con los pl\\u00e1sticos\\u201d, a\\u00f1ade Dakov.\\r\\nDisponer de una fuente de agua potable en todos los hogares es esencial para la salud humana y del medioambiente. Y disfrutar de agua limpia y desag\\u00fces es un factor m\\u00e1s para luchar contra la desigualdad. En la medida en que reducen la dependencia del agua embotellada, los filtros de agua pueden suponer una de las soluciones a este desaf\\u00edo. Sin embargo, como ya hemos se\\u00f1alado, garantizar la potabilidad del agua desde un punto de vista qu\\u00edmico y biol\\u00f3gico es mucho m\\u00e1s complicado que instalar un filtro en casa.\",\n          \"Los presidentes de Iberia e Iberia Express y el consejero delegado de Cepsa han firmado hoy un acuerdo para avanzar en la descarbonizaci\\u00f3n del sector a\\u00e9reo a trav\\u00e9s del desarrollo e investigaci\\u00f3n de combustibles de origen sostenible y otras alternativas energ\\u00e9ticas como el hidr\\u00f3geno renovable y la electricidad para fomentar la movilidad sostenible de aviones y de la flota de veh\\u00edculos que les prestan servicios en aeropuertos.Para las tres compa\\u00f1\\u00edas el desarrollo de los combustibles de origen sostenible SAF son una prioridad para continuar avanzando hacia una industria cada vez m\\u00e1s baja en carbono y contribuir as\\u00ed a la consecuci\\u00f3n de la Agenda 2030. Este proyecto que contempla la investigaci\\u00f3n y pruebas en vuelo con SAF contribuye a los Objetivos para el Desarrollo Sostenible n\\u00famero 7 Garantizar el acceso a una energ\\u00eda asequible segura sostenible y moderna 8 Promover el crecimiento econ\\u00f3mico inclusivo y sostenible el empleo y el trabajo dignoy 13 adoptar medidas urgentes para combatir el cambio clim\\u00e1tico y sus efectos.Cepsa est\\u00e1 trabajando en un ambicioso plan para dar un giro verde a todos sus negocios y convertirse en un referente de la transici\\u00f3n energ\\u00e9tica en su sector. Adem\\u00e1s la compa\\u00f1\\u00eda cuenta con una amplia experiencia en este \\u00e1mbito lleva m\\u00e1s de 10 a\\u00f1os produciendo biocombustibles en sus centros industriales y desarrolla estudios pioneros a nivel mundial para convertir residuos y aceites usados en combustibles de origen renovable de alto valor energ\\u00e9tico.Para Maarten Wetselaar consejero delegado de Cepsa esta alianza muestra la apuesta de Cepsa por la sostenibilidad y la firme determinaci\\u00f3n de apoyar a nuestros clientes dot\\u00e1ndolos de soluciones viables que aceleren su transici\\u00f3n energ\\u00e9tica. Como referente en el suministro de combustibles para el sector a\\u00e9reo compartimos con el Grupo Iberia el objetivo com\\u00fan de impulsar la descarbonizaci\\u00f3n del transporte como herramienta de lucha contra el cambio clim\\u00e1tico.Como parte del Grupo IAG Iberia e Iberia Express se han comprometido a lograr cero emisiones netas en 2050 y a operar un m\\u00ednimo de un 10 de sus vuelos con combustibles de origen sostenible en 2030.Para la descarbonizaci\\u00f3n del sector a\\u00e9reo es imprescindible el desarrollo producci\\u00f3n y distribuci\\u00f3n de los combustibles de origen sostenible a precios asequibles y en cantidad suficiente para abastecer a las aerol\\u00edneas. Confiamos en que este acuerdo con Cepsa contribuya a ese objetivo ha comentado Javier S\\u00e1nchezPrieto presidente y CEO de Iberia.Combustibles sosteniblesLos biocombustibles para la aviaci\\u00f3n tienen un papel clave en la descarbonizaci\\u00f3n del turismo y del transporte a\\u00e9reo. En comparaci\\u00f3n con el combustible convencional el SAF puede reducir las emisiones de la aviaci\\u00f3n hasta en un 80 respecto al queroseno convencional durante todo su ciclo de vida seg\\u00fan la Asociaci\\u00f3n Internacional de Transporte A\\u00e9reo.Adem\\u00e1s aportan otros beneficios impulsa la econom\\u00eda circular aumenta la independencia energ\\u00e9tica y con ella la seguridad de suministro asegura el mantenimiento de un importante motor de la econom\\u00eda espa\\u00f1ola 200.000 empleos de calidad y puede utilizarse de manera inmediata sin necesidad de renovar la flota y aprovechando las infraestructuras de suministro actuales.Para la consecuci\\u00f3n del objetivo de crecimiento cero de las emisiones de carbono desde 2020 la Asociaci\\u00f3n del Transporte A\\u00e9reo Internacional IATA est\\u00e1 impulsando el uso de biocombustibles sostenibles entre otras iniciativas por su significativa reducci\\u00f3n de CO2.Este acuerdo entre Cepsa y el Grupo Iberia est\\u00e1 en l\\u00ednea con el conjunto de medidas Fit for 55 de la Comisi\\u00f3n Europea que incluye una iniciativa legislativa denominada RefuelEU Aviation que pretende impulsar la oferta y demanda de biocombustibles de aviaci\\u00f3n en la Uni\\u00f3n Europea alcanzando un uso de 2 en 2025 de 5 en 2030 y de 63 en 2050.\"\n        ],\n        \"semantic_type\": \"\",\n        \"description\": \"\"\n      }\n    },\n    {\n      \"column\": \"Type\",\n      \"properties\": {\n        \"dtype\": \"category\",\n        \"num_unique_values\": 7,\n        \"samples\": [\n          \"Otra\",\n          \"Regulaciones\",\n          \"Sostenibilidad\"\n        ],\n        \"semantic_type\": \"\",\n        \"description\": \"\"\n      }\n    }\n  ]\n}"
            }
          },
          "metadata": {},
          "execution_count": 17
        }
      ]
    },
    {
      "cell_type": "code",
      "source": [
        "X = data['news']\n",
        "X"
      ],
      "metadata": {
        "colab": {
          "base_uri": "https://localhost:8080/",
          "height": 458
        },
        "id": "f0LBywdIsp9v",
        "outputId": "40a4b523-265e-4d56-924c-36cfc100f74f"
      },
      "execution_count": null,
      "outputs": [
        {
          "output_type": "execute_result",
          "data": {
            "text/plain": [
              "0       Durante el foro La banca articulador empresari...\n",
              "1       El regulador de valores de China dijo el domin...\n",
              "2       En una industria históricamente masculina como...\n",
              "3       Con el dato de marzo el IPC interanual encaden...\n",
              "4       Ayer en Cartagena se dio inicio a la versión n...\n",
              "                              ...                        \n",
              "1212    En la vida de toda empresa emergente llega un ...\n",
              "1213    La espiral alcista de los precios continúa y g...\n",
              "1214    Las grandes derrotas nacionales son experienci...\n",
              "1215    BBVA ha alcanzado un acuerdo de colaboración c...\n",
              "1216    Casi entrando a la parte final de noviembre la...\n",
              "Name: news, Length: 1217, dtype: object"
            ],
            "text/html": [
              "<div>\n",
              "<style scoped>\n",
              "    .dataframe tbody tr th:only-of-type {\n",
              "        vertical-align: middle;\n",
              "    }\n",
              "\n",
              "    .dataframe tbody tr th {\n",
              "        vertical-align: top;\n",
              "    }\n",
              "\n",
              "    .dataframe thead th {\n",
              "        text-align: right;\n",
              "    }\n",
              "</style>\n",
              "<table border=\"1\" class=\"dataframe\">\n",
              "  <thead>\n",
              "    <tr style=\"text-align: right;\">\n",
              "      <th></th>\n",
              "      <th>news</th>\n",
              "    </tr>\n",
              "  </thead>\n",
              "  <tbody>\n",
              "    <tr>\n",
              "      <th>0</th>\n",
              "      <td>Durante el foro La banca articulador empresari...</td>\n",
              "    </tr>\n",
              "    <tr>\n",
              "      <th>1</th>\n",
              "      <td>El regulador de valores de China dijo el domin...</td>\n",
              "    </tr>\n",
              "    <tr>\n",
              "      <th>2</th>\n",
              "      <td>En una industria históricamente masculina como...</td>\n",
              "    </tr>\n",
              "    <tr>\n",
              "      <th>3</th>\n",
              "      <td>Con el dato de marzo el IPC interanual encaden...</td>\n",
              "    </tr>\n",
              "    <tr>\n",
              "      <th>4</th>\n",
              "      <td>Ayer en Cartagena se dio inicio a la versión n...</td>\n",
              "    </tr>\n",
              "    <tr>\n",
              "      <th>...</th>\n",
              "      <td>...</td>\n",
              "    </tr>\n",
              "    <tr>\n",
              "      <th>1212</th>\n",
              "      <td>En la vida de toda empresa emergente llega un ...</td>\n",
              "    </tr>\n",
              "    <tr>\n",
              "      <th>1213</th>\n",
              "      <td>La espiral alcista de los precios continúa y g...</td>\n",
              "    </tr>\n",
              "    <tr>\n",
              "      <th>1214</th>\n",
              "      <td>Las grandes derrotas nacionales son experienci...</td>\n",
              "    </tr>\n",
              "    <tr>\n",
              "      <th>1215</th>\n",
              "      <td>BBVA ha alcanzado un acuerdo de colaboración c...</td>\n",
              "    </tr>\n",
              "    <tr>\n",
              "      <th>1216</th>\n",
              "      <td>Casi entrando a la parte final de noviembre la...</td>\n",
              "    </tr>\n",
              "  </tbody>\n",
              "</table>\n",
              "<p>1217 rows × 1 columns</p>\n",
              "</div><br><label><b>dtype:</b> object</label>"
            ]
          },
          "metadata": {},
          "execution_count": 19
        }
      ]
    },
    {
      "cell_type": "code",
      "source": [
        "y = data['Type']\n",
        "y"
      ],
      "metadata": {
        "colab": {
          "base_uri": "https://localhost:8080/",
          "height": 458
        },
        "id": "c2jI1zgBtDu5",
        "outputId": "8a413e51-b067-4114-c36a-b8937672bde0"
      },
      "execution_count": null,
      "outputs": [
        {
          "output_type": "execute_result",
          "data": {
            "text/plain": [
              "0                Otra\n",
              "1        Regulaciones\n",
              "2            Alianzas\n",
              "3       Macroeconomia\n",
              "4                Otra\n",
              "            ...      \n",
              "1212       Innovacion\n",
              "1213    Macroeconomia\n",
              "1214         Alianzas\n",
              "1215       Innovacion\n",
              "1216         Alianzas\n",
              "Name: Type, Length: 1217, dtype: object"
            ],
            "text/html": [
              "<div>\n",
              "<style scoped>\n",
              "    .dataframe tbody tr th:only-of-type {\n",
              "        vertical-align: middle;\n",
              "    }\n",
              "\n",
              "    .dataframe tbody tr th {\n",
              "        vertical-align: top;\n",
              "    }\n",
              "\n",
              "    .dataframe thead th {\n",
              "        text-align: right;\n",
              "    }\n",
              "</style>\n",
              "<table border=\"1\" class=\"dataframe\">\n",
              "  <thead>\n",
              "    <tr style=\"text-align: right;\">\n",
              "      <th></th>\n",
              "      <th>Type</th>\n",
              "    </tr>\n",
              "  </thead>\n",
              "  <tbody>\n",
              "    <tr>\n",
              "      <th>0</th>\n",
              "      <td>Otra</td>\n",
              "    </tr>\n",
              "    <tr>\n",
              "      <th>1</th>\n",
              "      <td>Regulaciones</td>\n",
              "    </tr>\n",
              "    <tr>\n",
              "      <th>2</th>\n",
              "      <td>Alianzas</td>\n",
              "    </tr>\n",
              "    <tr>\n",
              "      <th>3</th>\n",
              "      <td>Macroeconomia</td>\n",
              "    </tr>\n",
              "    <tr>\n",
              "      <th>4</th>\n",
              "      <td>Otra</td>\n",
              "    </tr>\n",
              "    <tr>\n",
              "      <th>...</th>\n",
              "      <td>...</td>\n",
              "    </tr>\n",
              "    <tr>\n",
              "      <th>1212</th>\n",
              "      <td>Innovacion</td>\n",
              "    </tr>\n",
              "    <tr>\n",
              "      <th>1213</th>\n",
              "      <td>Macroeconomia</td>\n",
              "    </tr>\n",
              "    <tr>\n",
              "      <th>1214</th>\n",
              "      <td>Alianzas</td>\n",
              "    </tr>\n",
              "    <tr>\n",
              "      <th>1215</th>\n",
              "      <td>Innovacion</td>\n",
              "    </tr>\n",
              "    <tr>\n",
              "      <th>1216</th>\n",
              "      <td>Alianzas</td>\n",
              "    </tr>\n",
              "  </tbody>\n",
              "</table>\n",
              "<p>1217 rows × 1 columns</p>\n",
              "</div><br><label><b>dtype:</b> object</label>"
            ]
          },
          "metadata": {},
          "execution_count": 21
        }
      ]
    },
    {
      "cell_type": "code",
      "source": [
        "vectorizador = CountVectorizer()"
      ],
      "metadata": {
        "id": "EoVTCYqftSl2"
      },
      "execution_count": null,
      "outputs": []
    },
    {
      "cell_type": "code",
      "source": [
        "X = vectorizador.fit_transform(X)"
      ],
      "metadata": {
        "id": "RHIBAVNkthDo"
      },
      "execution_count": null,
      "outputs": []
    },
    {
      "cell_type": "code",
      "source": [
        "X_train, X_test, y_train, y_test = train_test_split(X, y, test_size=0.2, random_state=42)"
      ],
      "metadata": {
        "id": "pMSz4T0Etx_x"
      },
      "execution_count": null,
      "outputs": []
    },
    {
      "cell_type": "code",
      "source": [
        "knn = KNeighborsClassifier(n_neighbors=5)"
      ],
      "metadata": {
        "id": "mo6qVo0tuDvS"
      },
      "execution_count": null,
      "outputs": []
    },
    {
      "cell_type": "code",
      "source": [
        "knn.fit(X_train, y_train)"
      ],
      "metadata": {
        "colab": {
          "base_uri": "https://localhost:8080/",
          "height": 74
        },
        "id": "OBvaX6UNuF3o",
        "outputId": "315e7607-9be1-4c64-a057-18eba8d101ca"
      },
      "execution_count": null,
      "outputs": [
        {
          "output_type": "execute_result",
          "data": {
            "text/plain": [
              "KNeighborsClassifier()"
            ],
            "text/html": [
              "<style>#sk-container-id-1 {color: black;}#sk-container-id-1 pre{padding: 0;}#sk-container-id-1 div.sk-toggleable {background-color: white;}#sk-container-id-1 label.sk-toggleable__label {cursor: pointer;display: block;width: 100%;margin-bottom: 0;padding: 0.3em;box-sizing: border-box;text-align: center;}#sk-container-id-1 label.sk-toggleable__label-arrow:before {content: \"▸\";float: left;margin-right: 0.25em;color: #696969;}#sk-container-id-1 label.sk-toggleable__label-arrow:hover:before {color: black;}#sk-container-id-1 div.sk-estimator:hover label.sk-toggleable__label-arrow:before {color: black;}#sk-container-id-1 div.sk-toggleable__content {max-height: 0;max-width: 0;overflow: hidden;text-align: left;background-color: #f0f8ff;}#sk-container-id-1 div.sk-toggleable__content pre {margin: 0.2em;color: black;border-radius: 0.25em;background-color: #f0f8ff;}#sk-container-id-1 input.sk-toggleable__control:checked~div.sk-toggleable__content {max-height: 200px;max-width: 100%;overflow: auto;}#sk-container-id-1 input.sk-toggleable__control:checked~label.sk-toggleable__label-arrow:before {content: \"▾\";}#sk-container-id-1 div.sk-estimator input.sk-toggleable__control:checked~label.sk-toggleable__label {background-color: #d4ebff;}#sk-container-id-1 div.sk-label input.sk-toggleable__control:checked~label.sk-toggleable__label {background-color: #d4ebff;}#sk-container-id-1 input.sk-hidden--visually {border: 0;clip: rect(1px 1px 1px 1px);clip: rect(1px, 1px, 1px, 1px);height: 1px;margin: -1px;overflow: hidden;padding: 0;position: absolute;width: 1px;}#sk-container-id-1 div.sk-estimator {font-family: monospace;background-color: #f0f8ff;border: 1px dotted black;border-radius: 0.25em;box-sizing: border-box;margin-bottom: 0.5em;}#sk-container-id-1 div.sk-estimator:hover {background-color: #d4ebff;}#sk-container-id-1 div.sk-parallel-item::after {content: \"\";width: 100%;border-bottom: 1px solid gray;flex-grow: 1;}#sk-container-id-1 div.sk-label:hover label.sk-toggleable__label {background-color: #d4ebff;}#sk-container-id-1 div.sk-serial::before {content: \"\";position: absolute;border-left: 1px solid gray;box-sizing: border-box;top: 0;bottom: 0;left: 50%;z-index: 0;}#sk-container-id-1 div.sk-serial {display: flex;flex-direction: column;align-items: center;background-color: white;padding-right: 0.2em;padding-left: 0.2em;position: relative;}#sk-container-id-1 div.sk-item {position: relative;z-index: 1;}#sk-container-id-1 div.sk-parallel {display: flex;align-items: stretch;justify-content: center;background-color: white;position: relative;}#sk-container-id-1 div.sk-item::before, #sk-container-id-1 div.sk-parallel-item::before {content: \"\";position: absolute;border-left: 1px solid gray;box-sizing: border-box;top: 0;bottom: 0;left: 50%;z-index: -1;}#sk-container-id-1 div.sk-parallel-item {display: flex;flex-direction: column;z-index: 1;position: relative;background-color: white;}#sk-container-id-1 div.sk-parallel-item:first-child::after {align-self: flex-end;width: 50%;}#sk-container-id-1 div.sk-parallel-item:last-child::after {align-self: flex-start;width: 50%;}#sk-container-id-1 div.sk-parallel-item:only-child::after {width: 0;}#sk-container-id-1 div.sk-dashed-wrapped {border: 1px dashed gray;margin: 0 0.4em 0.5em 0.4em;box-sizing: border-box;padding-bottom: 0.4em;background-color: white;}#sk-container-id-1 div.sk-label label {font-family: monospace;font-weight: bold;display: inline-block;line-height: 1.2em;}#sk-container-id-1 div.sk-label-container {text-align: center;}#sk-container-id-1 div.sk-container {/* jupyter's `normalize.less` sets `[hidden] { display: none; }` but bootstrap.min.css set `[hidden] { display: none !important; }` so we also need the `!important` here to be able to override the default hidden behavior on the sphinx rendered scikit-learn.org. See: https://github.com/scikit-learn/scikit-learn/issues/21755 */display: inline-block !important;position: relative;}#sk-container-id-1 div.sk-text-repr-fallback {display: none;}</style><div id=\"sk-container-id-1\" class=\"sk-top-container\"><div class=\"sk-text-repr-fallback\"><pre>KNeighborsClassifier()</pre><b>In a Jupyter environment, please rerun this cell to show the HTML representation or trust the notebook. <br />On GitHub, the HTML representation is unable to render, please try loading this page with nbviewer.org.</b></div><div class=\"sk-container\" hidden><div class=\"sk-item\"><div class=\"sk-estimator sk-toggleable\"><input class=\"sk-toggleable__control sk-hidden--visually\" id=\"sk-estimator-id-1\" type=\"checkbox\" checked><label for=\"sk-estimator-id-1\" class=\"sk-toggleable__label sk-toggleable__label-arrow\">KNeighborsClassifier</label><div class=\"sk-toggleable__content\"><pre>KNeighborsClassifier()</pre></div></div></div></div></div>"
            ]
          },
          "metadata": {},
          "execution_count": 26
        }
      ]
    },
    {
      "cell_type": "code",
      "source": [
        "y_pred = knn.predict(X_test)\n",
        "accuracy = accuracy_score(y_test, y_pred)"
      ],
      "metadata": {
        "id": "1mVnwb6uumZw"
      },
      "execution_count": null,
      "outputs": []
    },
    {
      "cell_type": "code",
      "source": [
        "cm = confusion_matrix(y_test, y_pred)\n",
        "cm"
      ],
      "metadata": {
        "colab": {
          "base_uri": "https://localhost:8080/"
        },
        "id": "YxTQ3XVTu3Bp",
        "outputId": "25230ca6-b0b2-4e97-823c-c2f1006605e1"
      },
      "execution_count": null,
      "outputs": [
        {
          "output_type": "execute_result",
          "data": {
            "text/plain": [
              "array([[32,  5,  9,  3,  2,  0,  1],\n",
              "       [ 3, 20,  7,  1,  1,  0,  1],\n",
              "       [ 3,  3, 66,  0,  1,  0,  0],\n",
              "       [ 7,  1,  7, 13,  1,  0,  0],\n",
              "       [ 7,  2,  9,  0,  6,  0,  0],\n",
              "       [ 3,  0,  5,  0,  1,  0,  0],\n",
              "       [ 1,  4,  6,  1,  1,  0, 11]])"
            ]
          },
          "metadata": {},
          "execution_count": 30
        }
      ]
    },
    {
      "cell_type": "code",
      "source": [
        "plt.figure(figsize=(8,6))\n",
        "sns.heatmap(cm, cmap='Blues', xticklabels=knn.classes_, yticklabels=knn.classes_, annot=True)\n",
        "plt.xlabel('Etiquetas que está otorgando el modelo')\n",
        "plt.ylabel('Etiquetas verdaderas')\n",
        "plt.title('Matriz de Confusión')\n",
        "plt.show()"
      ],
      "metadata": {
        "colab": {
          "base_uri": "https://localhost:8080/",
          "height": 661
        },
        "id": "-hYVoi3_vdTG",
        "outputId": "ddbd8204-f544-4b8d-8c71-c390fedb9406"
      },
      "execution_count": null,
      "outputs": [
        {
          "output_type": "display_data",
          "data": {
            "text/plain": [
              "<Figure size 800x600 with 2 Axes>"
            ],
            "image/png": "[encoded data removed]"
          },
          "metadata": {}
        }
      ]
    },
    {
      "cell_type": "code",
      "source": [
        "from sklearn.neural_network import MLPClassifier\n",
        "# Crear y entrenar el modelo MLP\n",
        "modelo = MLPClassifier(hidden_layer_sizes=(100, 70), max_iter=1000, random_state=42)\n",
        "modelo.fit(X_train, y_train)\n",
        "\n",
        "y_pred = modelo.predict(X_test)\n",
        "cm = confusion_matrix(y_test, y_pred)\n",
        "accuracy = accuracy_score(y_test, y_pred)\n",
        "\n",
        "# Visualizar la matriz de confusión\n",
        "plt.figure(figsize=(8, 6))\n",
        "sns.heatmap(cm, annot=True, cmap=\"Blues\", fmt=\"d\", xticklabels=modelo.classes_, yticklabels=modelo.classes_)\n",
        "plt.xlabel('Etiquetas predichas')\n",
        "plt.ylabel('Etiquetas verdaderas')\n",
        "plt.title('Matriz de Confusión')\n",
        "plt.show()\n",
        "print(\"Precisión del clasificador MLP: \", accuracy * 100, \"%\")"
      ],
      "metadata": {
        "colab": {
          "base_uri": "https://localhost:8080/",
          "height": 677
        },
        "id": "fBn19yb9z_xc",
        "outputId": "757b365c-c646-429d-d585-5c24ee86fd6d"
      },
      "execution_count": null,
      "outputs": [
        {
          "output_type": "display_data",
          "data": {
            "text/plain": [
              "<Figure size 800x600 with 2 Axes>"
            ],
            "image/png": "[encoded data removed]"
          },
          "metadata": {}
        },
        {
          "output_type": "stream",
          "name": "stdout",
          "text": [
            "Precisión del clasificador MLP:  85.24590163934425 %\n"
          ]
        }
      ]
    }
  ]
}